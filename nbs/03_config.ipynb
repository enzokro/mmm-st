{
 "cells": [
  {
   "cell_type": "markdown",
   "metadata": {},
   "source": [
    "# Diffuse\n",
    "\n",
    "> Transforms an image based on a given prompt.  "
   ]
  },
  {
   "cell_type": "code",
   "execution_count": null,
   "metadata": {},
   "outputs": [],
   "source": [
    "#| default_exp config"
   ]
  },
  {
   "cell_type": "code",
   "execution_count": null,
   "metadata": {},
   "outputs": [],
   "source": [
    "#| export\n",
    "import json\n",
    "import os"
   ]
  },
  {
   "cell_type": "code",
   "execution_count": null,
   "metadata": {},
   "outputs": [],
   "source": [
    "#| export\n",
    "\n",
    "config = {\n",
    "  \"tfm_type\": \"regular\",\n",
    "  \"models\": {\n",
    "    # \"image_to_image\": \"kandinsky-community/kandinsky-2-2-decoder\",\n",
    "    \"image_to_image\": \"runwayml/stable-diffusion-v1-5\",\n",
    "    \"control_net_canny\": \"lllyasviel/sd-controlnet-canny\",\n",
    "    \"control_net_pose\": \"fusing/stable-diffusion-v1-5-controlnet-openpose\",\n",
    "    \"stable_diffusion\": \"runwayml/stable-diffusion-v1-5\",\n",
    "    \"pose_det_model\": \"lllyasviel/ControlNet\",\n",
    "  },\n",
    "  \"app_settings\": {\n",
    "    \"threshold\": 0.6,\n",
    "    \"num_valid_frames\": 15,\n",
    "    \"targets\": [\"person\", \"cat\"],\n",
    "    \"host\": \"localhost\",\n",
    "    \"port\": 8989\n",
    "  },\n",
    "  \"cap_props\": {\n",
    "    \"CAP_PROP_FPS\": 15\n",
    "  }\n",
    "}\n",
    "\n",
    "\n",
    "class Config:\n",
    "    \"\"\"\n",
    "    Configuration for the application, loaded from a JSON file.\n",
    "    \"\"\"\n",
    "    # # Load configuration from a JSON file\n",
    "    # with open('config.json', 'r') as config_file:\n",
    "    #     config = json.load(config_file)\n",
    "\n",
    "    # Models configuration\n",
    "    TRANSFORM_TYPE = config['tfm_type']\n",
    "    MODEL_NAME = config['models']['image_to_image']\n",
    "    CONTROL_NET_CANNY_MODEL = config['models']['control_net_canny']\n",
    "    CONTROL_NET_POSE_MODEL = config['models']['control_net_pose']\n",
    "    STABLE_DIFFUSION_MODEL = config['models']['stable_diffusion']\n",
    "    POSE_DET_MODEL = config['models']['pose_det_model']\n",
    "\n",
    "    # Application settings\n",
    "    HOST = os.environ.get('HOST', config['app_settings']['host'])\n",
    "    PORT = int(os.environ.get('PORT', config['app_settings']['port']))\n",
    "    DETECTION_URL = f'http://{HOST}:{PORT}/detections'\n",
    "\n",
    "    # Camera stream properties\n",
    "    CAP_PROPS = config['cap_props']"
   ]
  }
 ],
 "metadata": {
  "language_info": {
   "name": "python"
  }
 },
 "nbformat": 4,
 "nbformat_minor": 2
}
